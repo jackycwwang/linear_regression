{
 "cells": [
  {
   "cell_type": "markdown",
   "id": "1b07398e",
   "metadata": {},
   "source": [
    "## Simple Linear Regression Implementation"
   ]
  },
  {
   "cell_type": "markdown",
   "id": "59d23da8",
   "metadata": {},
   "source": [
    "We first define the error function, then we minimize the error function by doing partial derivative on the two unknown variables `a` and `b` to obtain a system of 2 equations, once we have the two equations, we can solve two unknown, where `a` is the slope of the line of the best fit, and `b` is y-intercept."
   ]
  },
  {
   "cell_type": "code",
   "execution_count": 1,
   "id": "97221eca",
   "metadata": {},
   "outputs": [],
   "source": [
    "import numpy as np\n",
    "import matplotlib.pyplot as plt"
   ]
  },
  {
   "cell_type": "code",
   "execution_count": 2,
   "id": "7bb0cf91",
   "metadata": {},
   "outputs": [],
   "source": [
    "# Load the data\n",
    "X = []\n",
    "Y = []"
   ]
  },
  {
   "cell_type": "code",
   "execution_count": 3,
   "id": "ad42cbd3",
   "metadata": {},
   "outputs": [],
   "source": [
    "for line in open('data_1d.csv'):\n",
    "    x, y = line.split(',')\n",
    "    X.append(float(x))\n",
    "    Y.append(float(y))    "
   ]
  },
  {
   "cell_type": "code",
   "execution_count": 4,
   "id": "9b01609a",
   "metadata": {},
   "outputs": [],
   "source": [
    "# turn X and Y into numpy arrays\n",
    "X = np.array(X)\n",
    "Y = np.array(Y)"
   ]
  },
  {
   "cell_type": "code",
   "execution_count": 5,
   "id": "b7d4df19",
   "metadata": {
    "scrolled": true
   },
   "outputs": [
    {
     "data": {
      "image/png": "[encoded data removed]",
      "text/plain": [
       "<Figure size 432x288 with 1 Axes>"
      ]
     },
     "metadata": {
      "needs_background": "light"
     },
     "output_type": "display_data"
    }
   ],
   "source": [
    "# plot to see what it looks like\n",
    "plt.scatter(X, Y);"
   ]
  },
  {
   "cell_type": "code",
   "execution_count": 6,
   "id": "a3361228",
   "metadata": {},
   "outputs": [],
   "source": [
    "# apply the equations we have calculated to compute a and b\n",
    "# Compute the common denominator\n",
    "denominator = X.mean() * X.sum() -  X.dot(X)"
   ]
  },
  {
   "cell_type": "code",
   "execution_count": 7,
   "id": "b75926c9",
   "metadata": {},
   "outputs": [],
   "source": [
    "# Compute the a and the b value\n",
    "a = ( Y.mean() * X.sum() - X.dot(Y) ) / denominator\n",
    "b = ( X.dot(Y) * X.mean() - Y.mean() * X.dot(X) ) / denominator"
   ]
  },
  {
   "cell_type": "code",
   "execution_count": 8,
   "id": "01a08531",
   "metadata": {},
   "outputs": [],
   "source": [
    "# Calculate predicated Y\n",
    "Yhat = a*X + b"
   ]
  },
  {
   "cell_type": "code",
   "execution_count": 9,
   "id": "975d767f",
   "metadata": {},
   "outputs": [
    {
     "data": {
      "image/png": "[encoded data removed]",
      "text/plain": [
       "<Figure size 432x288 with 1 Axes>"
      ]
     },
     "metadata": {
      "needs_background": "light"
     },
     "output_type": "display_data"
    }
   ],
   "source": [
    "# plot it all\n",
    "plt.scatter(X, Y)\n",
    "plt.plot(X, Yhat, color='r');"
   ]
  },
  {
   "cell_type": "markdown",
   "id": "5412e3ee",
   "metadata": {},
   "source": [
    "So the solution is sound"
   ]
  },
  {
   "cell_type": "markdown",
   "id": "a5584e4f",
   "metadata": {},
   "source": [
    "### R-Squared Calculation"
   ]
  },
  {
   "cell_type": "markdown",
   "id": "14869220",
   "metadata": {},
   "source": [
    "By definision, R-squared is defined by 1 - (sum of squared residual/sum of squared total), 1 - (SSres/SStot). Where SSres = Sum(Yi - Yhat)^2, and SStot = Sum(Yi - Ybar)^2."
   ]
  },
  {
   "cell_type": "code",
   "execution_count": 10,
   "id": "ba739644",
   "metadata": {},
   "outputs": [],
   "source": [
    "d1 = Y - Yhat\n",
    "d2 = Y - Y.mean()"
   ]
  },
  {
   "cell_type": "code",
   "execution_count": 11,
   "id": "53f7a82f",
   "metadata": {},
   "outputs": [],
   "source": [
    "SSres = d1.dot(d1)\n",
    "SStot = d2.dot(d2)"
   ]
  },
  {
   "cell_type": "code",
   "execution_count": 12,
   "id": "959e5e22",
   "metadata": {},
   "outputs": [],
   "source": [
    "R2 = 1 - SSres/SStot"
   ]
  },
  {
   "cell_type": "code",
   "execution_count": 13,
   "id": "4c7cc3c4",
   "metadata": {},
   "outputs": [
    {
     "data": {
      "text/plain": [
       "0.9911838202977805"
      ]
     },
     "execution_count": 13,
     "metadata": {},
     "output_type": "execute_result"
    }
   ],
   "source": [
    "R2"
   ]
  },
  {
   "cell_type": "markdown",
   "id": "2892805a",
   "metadata": {},
   "source": [
    "### Use Linear Regression to Solve Moor's Law Problem\n",
    "Linear regression can be used to solve many problems, even those that don't seem linear at first. Usually, Linear Regression is the first line of attack to discover correlations in data.\n",
    "\n",
    "Here is the Moore's Law:\n",
    "Transistor count on integrated circuit doubles every 2 years.\n",
    "T0 = A0, T1 = 2xA0, T2 = 2x2*A0, ... , Tn = 2^n*A0\n",
    "\n",
    "Apply log on both sides,\n",
    "log(Tn) = log(2^n * A0) = log(A0) + log(2) * n. Then we can apply Linear Regression to this equation."
   ]
  },
  {
   "cell_type": "markdown",
   "id": "c11fd313",
   "metadata": {},
   "source": [
    "### First way: Use Numpy"
   ]
  },
  {
   "cell_type": "code",
   "execution_count": 201,
   "id": "29255c7d",
   "metadata": {},
   "outputs": [],
   "source": [
    "import re\n",
    "import numpy as np"
   ]
  },
  {
   "cell_type": "code",
   "execution_count": 202,
   "id": "7a4403dd",
   "metadata": {},
   "outputs": [],
   "source": [
    "X = []\n",
    "Y = []\n",
    "non_decimal = re.compile(r'\\D+')\n",
    "for line in open('moore.csv'):\n",
    "#     print(line)\n",
    "#     break\n",
    "    r = line.split('\\t')\n",
    "#     print(r)\n",
    "#     break\n",
    "    x = int(r[2].split('[')[0])\n",
    "    y = int(non_decimal.sub('', r[1].split('[')[0]))\n",
    "    X.append(x)\n",
    "    Y.append(y)"
   ]
  },
  {
   "cell_type": "code",
   "execution_count": 203,
   "id": "d193abd6",
   "metadata": {},
   "outputs": [],
   "source": [
    "# Conver both to numpy array\n",
    "X = np.array(X)\n",
    "Y = np.array(Y)"
   ]
  },
  {
   "cell_type": "code",
   "execution_count": 204,
   "id": "6a71d685",
   "metadata": {},
   "outputs": [
    {
     "data": {
      "image/png": "[encoded data removed]",
      "text/plain": [
       "<Figure size 432x288 with 1 Axes>"
      ]
     },
     "metadata": {
      "needs_background": "light"
     },
     "output_type": "display_data"
    }
   ],
   "source": [
    "plt.scatter(X, Y);"
   ]
  },
  {
   "cell_type": "code",
   "execution_count": 205,
   "id": "24746e52",
   "metadata": {},
   "outputs": [],
   "source": [
    "Y = np.log(Y)"
   ]
  },
  {
   "cell_type": "code",
   "execution_count": 206,
   "id": "c813fb0f",
   "metadata": {},
   "outputs": [
    {
     "data": {
      "image/png": "[encoded data removed]",
      "text/plain": [
       "<Figure size 432x288 with 1 Axes>"
      ]
     },
     "metadata": {
      "needs_background": "light"
     },
     "output_type": "display_data"
    }
   ],
   "source": [
    "plt.scatter(X, Y);"
   ]
  },
  {
   "cell_type": "code",
   "execution_count": 207,
   "id": "67f51bcf",
   "metadata": {},
   "outputs": [],
   "source": [
    "# Compute the coefficient of the line of the best fit\n",
    "denominator = X.dot(X) - X.mean() * X.sum()\n",
    "a = ( X.dot(Y) - Y.mean()*X.sum() ) / denominator\n",
    "b = ( Y.mean() * X.dot(X) - X.mean() * X.dot(Y) ) / denominator"
   ]
  },
  {
   "cell_type": "code",
   "execution_count": 237,
   "id": "0c84fe93",
   "metadata": {},
   "outputs": [],
   "source": [
    "# Calculate the line\n",
    "Yhat = a*X + b"
   ]
  },
  {
   "cell_type": "code",
   "execution_count": 239,
   "id": "ecceb76a",
   "metadata": {},
   "outputs": [
    {
     "data": {
      "image/png": "[encoded data removed]",
      "text/plain": [
       "<Figure size 432x288 with 1 Axes>"
      ]
     },
     "metadata": {
      "needs_background": "light"
     },
     "output_type": "display_data"
    }
   ],
   "source": [
    "# Plot them all\n",
    "plt.scatter(X, Y)\n",
    "plt.plot(X, Yhat, c='r');"
   ]
  },
  {
   "cell_type": "code",
   "execution_count": 240,
   "id": "f1d129f1",
   "metadata": {},
   "outputs": [],
   "source": [
    "# Compute the r-squared too see how good the model is\n",
    "d1 = Y - Yhat\n",
    "d2 = Y - Y.mean()\n",
    "R2 = 1 - d1.dot(d1) / d2.dot(d2)"
   ]
  },
  {
   "cell_type": "code",
   "execution_count": 241,
   "id": "8832b9af",
   "metadata": {
    "scrolled": true
   },
   "outputs": [
    {
     "data": {
      "text/plain": [
       "0.952944285228576"
      ]
     },
     "execution_count": 241,
     "metadata": {},
     "output_type": "execute_result"
    }
   ],
   "source": [
    "R2"
   ]
  },
  {
   "cell_type": "markdown",
   "id": "76e4f5dd",
   "metadata": {},
   "source": [
    "How long does it take to double?\n",
    " \n",
    "let tc be Transistor Count\n",
    " \n",
    "log(tc) = a*year + b, thas is the linear regression we did\n",
    " \n",
    "tc = exp(b) * exp(a * year)\n",
    " \n",
    "2 * tc = 2 * exp(b) * exp(a * year) = exp(ln(2)) * exp(b) * exp(a * year) = exp(b) * exp(a * year + ln(2))\n",
    " \n",
    "Since tc = exp(b) * exp(a * year), we can plug in any count and any corresponding year, and the equation holds:\n",
    " \n",
    "So exp(b) * exp(a * year2) = exp(b) * exp(a * year1 + ln(2))\n",
    " \n",
    "a * year2 = a * year1 + ln(2) => year2 = year1 + ln(2)/a\n",
    " \n",
    "Then ask the question, IF count2 / count1 = 2 (count has doubled), then how much time (year2 - year1) has passed?\n",
    " \n",
    "So year2 - year1 = ln(2)/a"
   ]
  },
  {
   "cell_type": "code",
   "execution_count": 244,
   "id": "25020f6b",
   "metadata": {
    "scrolled": true
   },
   "outputs": [
    {
     "name": "stdout",
     "output_type": "stream",
     "text": [
      "time to double: 1.9745331723797188 years\n"
     ]
    }
   ],
   "source": [
    "# the count doubles in almost 2 years\n",
    "print(\"time to double:\", np.log(2)/a, \"years\")"
   ]
  },
  {
   "cell_type": "markdown",
   "id": "d3287348",
   "metadata": {},
   "source": [
    "### Second way: Use pandas"
   ]
  },
  {
   "cell_type": "code",
   "execution_count": 56,
   "id": "39a842ac",
   "metadata": {},
   "outputs": [],
   "source": [
    "import pandas as pd\n",
    "df = pd.read_csv('moore.csv', sep='\\t', header=None, names=['processor', 'count', 'year', 'designer', 'process', 'area'])"
   ]
  },
  {
   "cell_type": "code",
   "execution_count": 67,
   "id": "0cdf0f46",
   "metadata": {},
   "outputs": [
    {
     "name": "stderr",
     "output_type": "stream",
     "text": [
      "<ipython-input-67-29b11d7effa6>:1: FutureWarning: The default value of regex will change from True to False in a future version.\n",
      "  df['count'] = df['count'].str.replace(r'^\\D+|\\,|\\[\\d+\\]$', '').astype('int64')\n"
     ]
    }
   ],
   "source": [
    "# Remove non-decimal letter and reference numbers and convert to int64\n",
    "df['count'] = df['count'].str.replace(r'^\\D+|\\,|\\[\\d+\\]$', '').astype('int64')"
   ]
  },
  {
   "cell_type": "code",
   "execution_count": 185,
   "id": "19538497",
   "metadata": {},
   "outputs": [
    {
     "name": "stderr",
     "output_type": "stream",
     "text": [
      "<ipython-input-185-bc94f2794dce>:1: FutureWarning: The default value of regex will change from True to False in a future version.\n",
      "  df['year'] = df['year'].str.replace(r'\\[\\d+\\]$', '').astype('int')\n"
     ]
    }
   ],
   "source": [
    "# Remove reference numbers and convert to int\n",
    "df['year'] = df['year'].str.replace(r'\\[\\d+\\]$', '').astype('int')"
   ]
  },
  {
   "cell_type": "code",
   "execution_count": 227,
   "id": "1fe69b87",
   "metadata": {},
   "outputs": [],
   "source": [
    "# Convert these columns to numpy array\n",
    "X1 = np.array(df['year'])\n",
    "Y1 = np.array(df['count'])"
   ]
  },
  {
   "cell_type": "code",
   "execution_count": 216,
   "id": "cdaf55f0",
   "metadata": {},
   "outputs": [],
   "source": [
    "Y1 = np.log(Y1)"
   ]
  },
  {
   "cell_type": "code",
   "execution_count": 228,
   "id": "352cb640",
   "metadata": {},
   "outputs": [],
   "source": [
    "# Compute the coefficients\n",
    "denominator = X1.dot(X) - X1.mean() * X1.sum()\n",
    "a = ( X1.dot(Y) - Y1.mean()*X1.sum() ) / denominator\n",
    "b = ( Y1.mean() * X1.dot(X) - X1.mean() * X1.dot(Y) ) / denominator"
   ]
  },
  {
   "cell_type": "code",
   "execution_count": 233,
   "id": "c3eba044",
   "metadata": {},
   "outputs": [],
   "source": [
    "# Compute the line of best fit\n",
    "Yhat1 = a*X1 + b"
   ]
  },
  {
   "cell_type": "code",
   "execution_count": 234,
   "id": "efbf1627",
   "metadata": {
    "scrolled": true
   },
   "outputs": [
    {
     "data": {
      "image/png": "[encoded data removed]",
      "text/plain": [
       "<Figure size 432x288 with 1 Axes>"
      ]
     },
     "metadata": {
      "needs_background": "light"
     },
     "output_type": "display_data"
    }
   ],
   "source": [
    "# plot it all\n",
    "plt.scatter(X1, Y1)\n",
    "plt.plot(X1, Yhat1, color='r');"
   ]
  },
  {
   "cell_type": "code",
   "execution_count": 235,
   "id": "552298c9",
   "metadata": {},
   "outputs": [],
   "source": [
    "R2 = 1 - ( (Y1 - Yhat1).dot(Y1 - Yhat1) / (Y1 - Y1.mean()).dot(Y1 - Y1.mean()) )"
   ]
  },
  {
   "cell_type": "code",
   "execution_count": 236,
   "id": "5b8e1f65",
   "metadata": {},
   "outputs": [
    {
     "data": {
      "text/plain": [
       "0.952944285228576"
      ]
     },
     "execution_count": 236,
     "metadata": {},
     "output_type": "execute_result"
    }
   ],
   "source": [
    "R2"
   ]
  },
  {
   "cell_type": "code",
   "execution_count": 246,
   "id": "485a7c00",
   "metadata": {},
   "outputs": [
    {
     "name": "stdout",
     "output_type": "stream",
     "text": [
      "time to double: 1.9745331723797188 years\n"
     ]
    }
   ],
   "source": [
    "# The count doubles in ~ 2 years\n",
    "print(\"time to double:\", np.log(2)/a, \"years\")"
   ]
  }
 ],
 "metadata": {
  "kernelspec": {
   "display_name": "Python 3",
   "language": "python",
   "name": "python3"
  },
  "language_info": {
   "codemirror_mode": {
    "name": "ipython",
    "version": 3
   },
   "file_extension": ".py",
   "mimetype": "text/x-python",
   "name": "python",
   "nbconvert_exporter": "python",
   "pygments_lexer": "ipython3",
   "version": "3.8.8"
  }
 },
 "nbformat": 4,
 "nbformat_minor": 5
}
