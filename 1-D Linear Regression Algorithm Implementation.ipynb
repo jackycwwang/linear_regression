{
 "cells": [
  {
   "cell_type": "markdown",
   "id": "1b07398e",
   "metadata": {},
   "source": [
    "## Simple Linear Regression Implementation"
   ]
  },
  {
   "cell_type": "markdown",
   "id": "59d23da8",
   "metadata": {},
   "source": [
    "We first define the error function, then we minimize the error function by doing partial derivative on the two unknown variables `a` and `b` to obtain a system of 2 equations, once we have the two equations, we can solve two unknown, where `a` is the slope of the line of the best fit, and `b` is y-intercept."
   ]
  },
  {
   "cell_type": "code",
   "execution_count": 1,
   "id": "97221eca",
   "metadata": {},
   "outputs": [],
   "source": [
    "import numpy as np\n",
    "import matplotlib.pyplot as plt"
   ]
  },
  {
   "cell_type": "code",
   "execution_count": 2,
   "id": "7bb0cf91",
   "metadata": {},
   "outputs": [],
   "source": [
    "# Load the data\n",
    "X = []\n",
    "Y = []"
   ]
  },
  {
   "cell_type": "code",
   "execution_count": 3,
   "id": "ad42cbd3",
   "metadata": {},
   "outputs": [],
   "source": [
    "for line in open('data_1d.csv'):\n",
    "    x, y = line.split(',')\n",
    "    X.append(float(x))\n",
    "    Y.append(float(y))    "
   ]
  },
  {
   "cell_type": "code",
   "execution_count": 4,
   "id": "9b01609a",
   "metadata": {},
   "outputs": [],
   "source": [
    "# turn X and Y into numpy arrays\n",
    "X = np.array(X)\n",
    "Y = np.array(Y)"
   ]
  },
  {
   "cell_type": "code",
   "execution_count": 5,
   "id": "b7d4df19",
   "metadata": {
    "scrolled": true
   },
   "outputs": [
    {
     "data": {
      "image/png": "[encoded data removed]",
      "text/plain": [
       "<Figure size 432x288 with 1 Axes>"
      ]
     },
     "metadata": {
      "needs_background": "light"
     },
     "output_type": "display_data"
    }
   ],
   "source": [
    "# plot to see what it looks like\n",
    "plt.scatter(X, Y);"
   ]
  },
  {
   "cell_type": "code",
   "execution_count": 6,
   "id": "a3361228",
   "metadata": {},
   "outputs": [],
   "source": [
    "# apply the equations we have calculated to compute a and b\n",
    "# Compute the common denominator\n",
    "denominator = X.mean() * X.sum() -  X.dot(X)"
   ]
  },
  {
   "cell_type": "code",
   "execution_count": 7,
   "id": "b75926c9",
   "metadata": {},
   "outputs": [],
   "source": [
    "# Compute the a and the b value\n",
    "a = ( Y.mean() * X.sum() - X.dot(Y) ) / denominator\n",
    "b = ( X.dot(Y) * X.mean() - Y.mean() * X.dot(X) ) / denominator"
   ]
  },
  {
   "cell_type": "code",
   "execution_count": 8,
   "id": "01a08531",
   "metadata": {},
   "outputs": [],
   "source": [
    "# Calculate predicated Y\n",
    "Yhat = a*X + b"
   ]
  },
  {
   "cell_type": "code",
   "execution_count": 9,
   "id": "975d767f",
   "metadata": {},
   "outputs": [
    {
     "data": {
      "image/png": "[encoded data removed]",
      "text/plain": [
       "<Figure size 432x288 with 1 Axes>"
      ]
     },
     "metadata": {
      "needs_background": "light"
     },
     "output_type": "display_data"
    }
   ],
   "source": [
    "# plot it all\n",
    "plt.scatter(X, Y)\n",
    "plt.plot(X, Yhat, color='r');"
   ]
  },
  {
   "cell_type": "markdown",
   "id": "5412e3ee",
   "metadata": {},
   "source": [
    "So the solution is sound"
   ]
  },
  {
   "cell_type": "markdown",
   "id": "0abf55bb",
   "metadata": {},
   "source": [
    "### R-Squared Calculation"
   ]
  },
  {
   "cell_type": "markdown",
   "id": "b3d75532",
   "metadata": {},
   "source": [
    "By definision, R-squared is defined by 1 - (sum of squared residual/sum of squared total), 1 - (SSres/SStot). Where SSres = Sum(Yi - Yhat)^2, and SStot = Sum(Yi - Ybar)^2."
   ]
  },
  {
   "cell_type": "code",
   "execution_count": 13,
   "id": "643f3d89",
   "metadata": {},
   "outputs": [],
   "source": [
    "d1 = Y - Yhat\n",
    "d2 = Y - Y.mean()"
   ]
  },
  {
   "cell_type": "code",
   "execution_count": 14,
   "id": "089d270e",
   "metadata": {},
   "outputs": [],
   "source": [
    "SSres = d1.dot(d1)\n",
    "SStot = (d2).dot(d2)"
   ]
  },
  {
   "cell_type": "code",
   "execution_count": 15,
   "id": "90fb9f84",
   "metadata": {},
   "outputs": [],
   "source": [
    "R2 = 1 - SSres/SStot"
   ]
  },
  {
   "cell_type": "code",
   "execution_count": 16,
   "id": "c370f3c6",
   "metadata": {},
   "outputs": [
    {
     "data": {
      "text/plain": [
       "0.9911838202977805"
      ]
     },
     "execution_count": 16,
     "metadata": {},
     "output_type": "execute_result"
    }
   ],
   "source": [
    "R2"
   ]
  },
  {
   "cell_type": "code",
   "execution_count": null,
   "id": "f7d345e1",
   "metadata": {},
   "outputs": [],
   "source": []
  }
 ],
 "metadata": {
  "kernelspec": {
   "display_name": "Python 3",
   "language": "python",
   "name": "python3"
  },
  "language_info": {
   "codemirror_mode": {
    "name": "ipython",
    "version": 3
   },
   "file_extension": ".py",
   "mimetype": "text/x-python",
   "name": "python",
   "nbconvert_exporter": "python",
   "pygments_lexer": "ipython3",
   "version": "3.8.8"
  }
 },
 "nbformat": 4,
 "nbformat_minor": 5
}
